{
  "nbformat": 4,
  "nbformat_minor": 0,
  "metadata": {
    "colab": {
      "provenance": [],
      "collapsed_sections": [
        "1ohzpK4-uhJS",
        "rXvWujrUum9N"
      ],
      "include_colab_link": true
    },
    "kernelspec": {
      "name": "python3",
      "display_name": "Python 3"
    },
    "language_info": {
      "name": "python"
    }
  },
  "cells": [
    {
      "cell_type": "markdown",
      "metadata": {
        "id": "view-in-github",
        "colab_type": "text"
      },
      "source": [
        "<a href=\"https://colab.research.google.com/github/yashsinghkvojhar/yashsinghkvojhar/blob/main/Decision_Tree_Case_Study.ipynb\" target=\"_parent\"><img src=\"https://colab.research.google.com/assets/colab-badge.svg\" alt=\"Open In Colab\"/></a>"
      ]
    },
    {
      "cell_type": "markdown",
      "source": [
        "# Analyzing the Steel Plant Faults with Decision Trees\n",
        "\n",
        "## Context\n",
        "\n",
        "Welcome to the **Scaler Industrial** Development data analysis team! Our current project aims to improve the quality control process in steel manufacturing. Your expertise is requested to analyze the Steel Plant Faults dataset, utilizing Decision Trees to classify different types of steel plate faults. This task will help in automating the identification of defects and ensuring high standards in steel production.\n",
        "\n",
        "## Dataset Description\n",
        "\n",
        "The dataset you will analyze includes a variety of attributes that describe defects found in steel plates. These defects are classified into seven distinct categories, each representing a specific type of fault:\n",
        "\n",
        "### Steel Plate Fault Types:\n",
        "1. **Pastry:** Small patches or irregularities on the surface of the steel plate.\n",
        "2. **Z_Scratch:** Narrow, parallel scratches or marks in the direction of rolling.\n",
        "3. **K_Scratch:** Scratches similar to Z-scratches, but perpendicular to the rolling direction.\n",
        "4. **Stains:** Discolored or contaminated areas on the steel surface.\n",
        "5. **Dirtiness:** Presence of dirt or particulate matter on the steel surface.\n",
        "6. **Bumps:** Raised or protruding areas on the steel surface.\n",
        "7. **Other_Faults:** A broad category for faults not specifically mentioned in the other types.\n"
      ],
      "metadata": {
        "id": "Ow6YbSrgY5sy"
      }
    },
    {
      "cell_type": "code",
      "execution_count": 16,
      "metadata": {
        "id": "PM-aeWSQYi6Y",
        "outputId": "e6a97c2d-4d64-426c-d545-54ba555f9615",
        "colab": {
          "base_uri": "https://localhost:8080/"
        }
      },
      "outputs": [
        {
          "output_type": "stream",
          "name": "stdout",
          "text": [
            "--2024-06-03 12:28:39--  https://d2beiqkhq929f0.cloudfront.net/public_assets/assets/000/071/024/original/SteelPlant.csv\n",
            "Resolving d2beiqkhq929f0.cloudfront.net (d2beiqkhq929f0.cloudfront.net)... 18.238.102.185, 18.238.102.107, 18.238.102.180, ...\n",
            "Connecting to d2beiqkhq929f0.cloudfront.net (d2beiqkhq929f0.cloudfront.net)|18.238.102.185|:443... connected.\n",
            "HTTP request sent, awaiting response... 200 OK\n",
            "Length: 3133750 (3.0M) [text/plain]\n",
            "Saving to: ‘SteelPlant.csv.1’\n",
            "\n",
            "\rSteelPlant.csv.1      0%[                    ]       0  --.-KB/s               \rSteelPlant.csv.1    100%[===================>]   2.99M  --.-KB/s    in 0.07s   \n",
            "\n",
            "2024-06-03 12:28:39 (41.2 MB/s) - ‘SteelPlant.csv.1’ saved [3133750/3133750]\n",
            "\n"
          ]
        }
      ],
      "source": [
        "# Download the dataset\n",
        "!wget https://d2beiqkhq929f0.cloudfront.net/public_assets/assets/000/071/024/original/SteelPlant.csv"
      ]
    },
    {
      "cell_type": "code",
      "source": [
        "import warnings\n",
        "# Ignore all warnings\n",
        "warnings.filterwarnings(\"ignore\")"
      ],
      "metadata": {
        "id": "7Vxn4MtKotMZ"
      },
      "execution_count": 17,
      "outputs": []
    },
    {
      "cell_type": "code",
      "source": [
        "import pandas as pd\n",
        "\n",
        "df = pd.read_csv(\"SteelPlant.csv\")\n",
        "\n",
        "df.head()"
      ],
      "metadata": {
        "id": "xEVbaZtuY30E",
        "outputId": "8449ef4c-23f5-419b-d091-15a97632be72",
        "colab": {
          "base_uri": "https://localhost:8080/",
          "height": 255
        }
      },
      "execution_count": 18,
      "outputs": [
        {
          "output_type": "execute_result",
          "data": {
            "text/plain": [
              "   id  X_Minimum  X_Maximum  Y_Minimum  Y_Maximum  Pixels_Areas  X_Perimeter  \\\n",
              "0   0        584        590     909972     909977            16            8   \n",
              "1   1        808        816     728350     728372           433           20   \n",
              "2   2         39        192    2212076    2212144         11388          705   \n",
              "3   3        781        789    3353146    3353173           210           16   \n",
              "4   4       1540       1560     618457     618502           521           72   \n",
              "\n",
              "   Y_Perimeter  Sum_of_Luminosity  Minimum_of_Luminosity  ...  \\\n",
              "0            5               2274                    113  ...   \n",
              "1           54              44478                     70  ...   \n",
              "2          420            1311391                     29  ...   \n",
              "3           29               3202                    114  ...   \n",
              "4           67              48231                     82  ...   \n",
              "\n",
              "   Orientation_Index  Luminosity_Index  SigmoidOfAreas  Pastry  Z_Scratch  \\\n",
              "0            -0.5000           -0.0104          0.1417       0          0   \n",
              "1             0.7419           -0.2997          0.9491       0          0   \n",
              "2            -0.0105           -0.0944          1.0000       0          0   \n",
              "3             0.6667           -0.0402          0.4025       0          0   \n",
              "4             0.9158           -0.2455          0.9998       0          0   \n",
              "\n",
              "   K_Scatch  Stains  Dirtiness  Bumps  Other_Faults  \n",
              "0         0       1          0      0             0  \n",
              "1         0       0          0      0             1  \n",
              "2         1       0          0      0             0  \n",
              "3         1       0          0      0             0  \n",
              "4         0       0          0      0             1  \n",
              "\n",
              "[5 rows x 35 columns]"
            ],
            "text/html": [
              "\n",
              "  <div id=\"df-20a8aa96-d6f0-4567-9b45-84738eacaf79\" class=\"colab-df-container\">\n",
              "    <div>\n",
              "<style scoped>\n",
              "    .dataframe tbody tr th:only-of-type {\n",
              "        vertical-align: middle;\n",
              "    }\n",
              "\n",
              "    .dataframe tbody tr th {\n",
              "        vertical-align: top;\n",
              "    }\n",
              "\n",
              "    .dataframe thead th {\n",
              "        text-align: right;\n",
              "    }\n",
              "</style>\n",
              "<table border=\"1\" class=\"dataframe\">\n",
              "  <thead>\n",
              "    <tr style=\"text-align: right;\">\n",
              "      <th></th>\n",
              "      <th>id</th>\n",
              "      <th>X_Minimum</th>\n",
              "      <th>X_Maximum</th>\n",
              "      <th>Y_Minimum</th>\n",
              "      <th>Y_Maximum</th>\n",
              "      <th>Pixels_Areas</th>\n",
              "      <th>X_Perimeter</th>\n",
              "      <th>Y_Perimeter</th>\n",
              "      <th>Sum_of_Luminosity</th>\n",
              "      <th>Minimum_of_Luminosity</th>\n",
              "      <th>...</th>\n",
              "      <th>Orientation_Index</th>\n",
              "      <th>Luminosity_Index</th>\n",
              "      <th>SigmoidOfAreas</th>\n",
              "      <th>Pastry</th>\n",
              "      <th>Z_Scratch</th>\n",
              "      <th>K_Scatch</th>\n",
              "      <th>Stains</th>\n",
              "      <th>Dirtiness</th>\n",
              "      <th>Bumps</th>\n",
              "      <th>Other_Faults</th>\n",
              "    </tr>\n",
              "  </thead>\n",
              "  <tbody>\n",
              "    <tr>\n",
              "      <th>0</th>\n",
              "      <td>0</td>\n",
              "      <td>584</td>\n",
              "      <td>590</td>\n",
              "      <td>909972</td>\n",
              "      <td>909977</td>\n",
              "      <td>16</td>\n",
              "      <td>8</td>\n",
              "      <td>5</td>\n",
              "      <td>2274</td>\n",
              "      <td>113</td>\n",
              "      <td>...</td>\n",
              "      <td>-0.5000</td>\n",
              "      <td>-0.0104</td>\n",
              "      <td>0.1417</td>\n",
              "      <td>0</td>\n",
              "      <td>0</td>\n",
              "      <td>0</td>\n",
              "      <td>1</td>\n",
              "      <td>0</td>\n",
              "      <td>0</td>\n",
              "      <td>0</td>\n",
              "    </tr>\n",
              "    <tr>\n",
              "      <th>1</th>\n",
              "      <td>1</td>\n",
              "      <td>808</td>\n",
              "      <td>816</td>\n",
              "      <td>728350</td>\n",
              "      <td>728372</td>\n",
              "      <td>433</td>\n",
              "      <td>20</td>\n",
              "      <td>54</td>\n",
              "      <td>44478</td>\n",
              "      <td>70</td>\n",
              "      <td>...</td>\n",
              "      <td>0.7419</td>\n",
              "      <td>-0.2997</td>\n",
              "      <td>0.9491</td>\n",
              "      <td>0</td>\n",
              "      <td>0</td>\n",
              "      <td>0</td>\n",
              "      <td>0</td>\n",
              "      <td>0</td>\n",
              "      <td>0</td>\n",
              "      <td>1</td>\n",
              "    </tr>\n",
              "    <tr>\n",
              "      <th>2</th>\n",
              "      <td>2</td>\n",
              "      <td>39</td>\n",
              "      <td>192</td>\n",
              "      <td>2212076</td>\n",
              "      <td>2212144</td>\n",
              "      <td>11388</td>\n",
              "      <td>705</td>\n",
              "      <td>420</td>\n",
              "      <td>1311391</td>\n",
              "      <td>29</td>\n",
              "      <td>...</td>\n",
              "      <td>-0.0105</td>\n",
              "      <td>-0.0944</td>\n",
              "      <td>1.0000</td>\n",
              "      <td>0</td>\n",
              "      <td>0</td>\n",
              "      <td>1</td>\n",
              "      <td>0</td>\n",
              "      <td>0</td>\n",
              "      <td>0</td>\n",
              "      <td>0</td>\n",
              "    </tr>\n",
              "    <tr>\n",
              "      <th>3</th>\n",
              "      <td>3</td>\n",
              "      <td>781</td>\n",
              "      <td>789</td>\n",
              "      <td>3353146</td>\n",
              "      <td>3353173</td>\n",
              "      <td>210</td>\n",
              "      <td>16</td>\n",
              "      <td>29</td>\n",
              "      <td>3202</td>\n",
              "      <td>114</td>\n",
              "      <td>...</td>\n",
              "      <td>0.6667</td>\n",
              "      <td>-0.0402</td>\n",
              "      <td>0.4025</td>\n",
              "      <td>0</td>\n",
              "      <td>0</td>\n",
              "      <td>1</td>\n",
              "      <td>0</td>\n",
              "      <td>0</td>\n",
              "      <td>0</td>\n",
              "      <td>0</td>\n",
              "    </tr>\n",
              "    <tr>\n",
              "      <th>4</th>\n",
              "      <td>4</td>\n",
              "      <td>1540</td>\n",
              "      <td>1560</td>\n",
              "      <td>618457</td>\n",
              "      <td>618502</td>\n",
              "      <td>521</td>\n",
              "      <td>72</td>\n",
              "      <td>67</td>\n",
              "      <td>48231</td>\n",
              "      <td>82</td>\n",
              "      <td>...</td>\n",
              "      <td>0.9158</td>\n",
              "      <td>-0.2455</td>\n",
              "      <td>0.9998</td>\n",
              "      <td>0</td>\n",
              "      <td>0</td>\n",
              "      <td>0</td>\n",
              "      <td>0</td>\n",
              "      <td>0</td>\n",
              "      <td>0</td>\n",
              "      <td>1</td>\n",
              "    </tr>\n",
              "  </tbody>\n",
              "</table>\n",
              "<p>5 rows × 35 columns</p>\n",
              "</div>\n",
              "    <div class=\"colab-df-buttons\">\n",
              "\n",
              "  <div class=\"colab-df-container\">\n",
              "    <button class=\"colab-df-convert\" onclick=\"convertToInteractive('df-20a8aa96-d6f0-4567-9b45-84738eacaf79')\"\n",
              "            title=\"Convert this dataframe to an interactive table.\"\n",
              "            style=\"display:none;\">\n",
              "\n",
              "  <svg xmlns=\"http://www.w3.org/2000/svg\" height=\"24px\" viewBox=\"0 -960 960 960\">\n",
              "    <path d=\"M120-120v-720h720v720H120Zm60-500h600v-160H180v160Zm220 220h160v-160H400v160Zm0 220h160v-160H400v160ZM180-400h160v-160H180v160Zm440 0h160v-160H620v160ZM180-180h160v-160H180v160Zm440 0h160v-160H620v160Z\"/>\n",
              "  </svg>\n",
              "    </button>\n",
              "\n",
              "  <style>\n",
              "    .colab-df-container {\n",
              "      display:flex;\n",
              "      gap: 12px;\n",
              "    }\n",
              "\n",
              "    .colab-df-convert {\n",
              "      background-color: #E8F0FE;\n",
              "      border: none;\n",
              "      border-radius: 50%;\n",
              "      cursor: pointer;\n",
              "      display: none;\n",
              "      fill: #1967D2;\n",
              "      height: 32px;\n",
              "      padding: 0 0 0 0;\n",
              "      width: 32px;\n",
              "    }\n",
              "\n",
              "    .colab-df-convert:hover {\n",
              "      background-color: #E2EBFA;\n",
              "      box-shadow: 0px 1px 2px rgba(60, 64, 67, 0.3), 0px 1px 3px 1px rgba(60, 64, 67, 0.15);\n",
              "      fill: #174EA6;\n",
              "    }\n",
              "\n",
              "    .colab-df-buttons div {\n",
              "      margin-bottom: 4px;\n",
              "    }\n",
              "\n",
              "    [theme=dark] .colab-df-convert {\n",
              "      background-color: #3B4455;\n",
              "      fill: #D2E3FC;\n",
              "    }\n",
              "\n",
              "    [theme=dark] .colab-df-convert:hover {\n",
              "      background-color: #434B5C;\n",
              "      box-shadow: 0px 1px 3px 1px rgba(0, 0, 0, 0.15);\n",
              "      filter: drop-shadow(0px 1px 2px rgba(0, 0, 0, 0.3));\n",
              "      fill: #FFFFFF;\n",
              "    }\n",
              "  </style>\n",
              "\n",
              "    <script>\n",
              "      const buttonEl =\n",
              "        document.querySelector('#df-20a8aa96-d6f0-4567-9b45-84738eacaf79 button.colab-df-convert');\n",
              "      buttonEl.style.display =\n",
              "        google.colab.kernel.accessAllowed ? 'block' : 'none';\n",
              "\n",
              "      async function convertToInteractive(key) {\n",
              "        const element = document.querySelector('#df-20a8aa96-d6f0-4567-9b45-84738eacaf79');\n",
              "        const dataTable =\n",
              "          await google.colab.kernel.invokeFunction('convertToInteractive',\n",
              "                                                    [key], {});\n",
              "        if (!dataTable) return;\n",
              "\n",
              "        const docLinkHtml = 'Like what you see? Visit the ' +\n",
              "          '<a target=\"_blank\" href=https://colab.research.google.com/notebooks/data_table.ipynb>data table notebook</a>'\n",
              "          + ' to learn more about interactive tables.';\n",
              "        element.innerHTML = '';\n",
              "        dataTable['output_type'] = 'display_data';\n",
              "        await google.colab.output.renderOutput(dataTable, element);\n",
              "        const docLink = document.createElement('div');\n",
              "        docLink.innerHTML = docLinkHtml;\n",
              "        element.appendChild(docLink);\n",
              "      }\n",
              "    </script>\n",
              "  </div>\n",
              "\n",
              "\n",
              "<div id=\"df-a80337b9-0b98-4b05-a38c-21b8eb4a903b\">\n",
              "  <button class=\"colab-df-quickchart\" onclick=\"quickchart('df-a80337b9-0b98-4b05-a38c-21b8eb4a903b')\"\n",
              "            title=\"Suggest charts\"\n",
              "            style=\"display:none;\">\n",
              "\n",
              "<svg xmlns=\"http://www.w3.org/2000/svg\" height=\"24px\"viewBox=\"0 0 24 24\"\n",
              "     width=\"24px\">\n",
              "    <g>\n",
              "        <path d=\"M19 3H5c-1.1 0-2 .9-2 2v14c0 1.1.9 2 2 2h14c1.1 0 2-.9 2-2V5c0-1.1-.9-2-2-2zM9 17H7v-7h2v7zm4 0h-2V7h2v10zm4 0h-2v-4h2v4z\"/>\n",
              "    </g>\n",
              "</svg>\n",
              "  </button>\n",
              "\n",
              "<style>\n",
              "  .colab-df-quickchart {\n",
              "      --bg-color: #E8F0FE;\n",
              "      --fill-color: #1967D2;\n",
              "      --hover-bg-color: #E2EBFA;\n",
              "      --hover-fill-color: #174EA6;\n",
              "      --disabled-fill-color: #AAA;\n",
              "      --disabled-bg-color: #DDD;\n",
              "  }\n",
              "\n",
              "  [theme=dark] .colab-df-quickchart {\n",
              "      --bg-color: #3B4455;\n",
              "      --fill-color: #D2E3FC;\n",
              "      --hover-bg-color: #434B5C;\n",
              "      --hover-fill-color: #FFFFFF;\n",
              "      --disabled-bg-color: #3B4455;\n",
              "      --disabled-fill-color: #666;\n",
              "  }\n",
              "\n",
              "  .colab-df-quickchart {\n",
              "    background-color: var(--bg-color);\n",
              "    border: none;\n",
              "    border-radius: 50%;\n",
              "    cursor: pointer;\n",
              "    display: none;\n",
              "    fill: var(--fill-color);\n",
              "    height: 32px;\n",
              "    padding: 0;\n",
              "    width: 32px;\n",
              "  }\n",
              "\n",
              "  .colab-df-quickchart:hover {\n",
              "    background-color: var(--hover-bg-color);\n",
              "    box-shadow: 0 1px 2px rgba(60, 64, 67, 0.3), 0 1px 3px 1px rgba(60, 64, 67, 0.15);\n",
              "    fill: var(--button-hover-fill-color);\n",
              "  }\n",
              "\n",
              "  .colab-df-quickchart-complete:disabled,\n",
              "  .colab-df-quickchart-complete:disabled:hover {\n",
              "    background-color: var(--disabled-bg-color);\n",
              "    fill: var(--disabled-fill-color);\n",
              "    box-shadow: none;\n",
              "  }\n",
              "\n",
              "  .colab-df-spinner {\n",
              "    border: 2px solid var(--fill-color);\n",
              "    border-color: transparent;\n",
              "    border-bottom-color: var(--fill-color);\n",
              "    animation:\n",
              "      spin 1s steps(1) infinite;\n",
              "  }\n",
              "\n",
              "  @keyframes spin {\n",
              "    0% {\n",
              "      border-color: transparent;\n",
              "      border-bottom-color: var(--fill-color);\n",
              "      border-left-color: var(--fill-color);\n",
              "    }\n",
              "    20% {\n",
              "      border-color: transparent;\n",
              "      border-left-color: var(--fill-color);\n",
              "      border-top-color: var(--fill-color);\n",
              "    }\n",
              "    30% {\n",
              "      border-color: transparent;\n",
              "      border-left-color: var(--fill-color);\n",
              "      border-top-color: var(--fill-color);\n",
              "      border-right-color: var(--fill-color);\n",
              "    }\n",
              "    40% {\n",
              "      border-color: transparent;\n",
              "      border-right-color: var(--fill-color);\n",
              "      border-top-color: var(--fill-color);\n",
              "    }\n",
              "    60% {\n",
              "      border-color: transparent;\n",
              "      border-right-color: var(--fill-color);\n",
              "    }\n",
              "    80% {\n",
              "      border-color: transparent;\n",
              "      border-right-color: var(--fill-color);\n",
              "      border-bottom-color: var(--fill-color);\n",
              "    }\n",
              "    90% {\n",
              "      border-color: transparent;\n",
              "      border-bottom-color: var(--fill-color);\n",
              "    }\n",
              "  }\n",
              "</style>\n",
              "\n",
              "  <script>\n",
              "    async function quickchart(key) {\n",
              "      const quickchartButtonEl =\n",
              "        document.querySelector('#' + key + ' button');\n",
              "      quickchartButtonEl.disabled = true;  // To prevent multiple clicks.\n",
              "      quickchartButtonEl.classList.add('colab-df-spinner');\n",
              "      try {\n",
              "        const charts = await google.colab.kernel.invokeFunction(\n",
              "            'suggestCharts', [key], {});\n",
              "      } catch (error) {\n",
              "        console.error('Error during call to suggestCharts:', error);\n",
              "      }\n",
              "      quickchartButtonEl.classList.remove('colab-df-spinner');\n",
              "      quickchartButtonEl.classList.add('colab-df-quickchart-complete');\n",
              "    }\n",
              "    (() => {\n",
              "      let quickchartButtonEl =\n",
              "        document.querySelector('#df-a80337b9-0b98-4b05-a38c-21b8eb4a903b button');\n",
              "      quickchartButtonEl.style.display =\n",
              "        google.colab.kernel.accessAllowed ? 'block' : 'none';\n",
              "    })();\n",
              "  </script>\n",
              "</div>\n",
              "\n",
              "    </div>\n",
              "  </div>\n"
            ],
            "application/vnd.google.colaboratory.intrinsic+json": {
              "type": "dataframe",
              "variable_name": "df"
            }
          },
          "metadata": {},
          "execution_count": 18
        }
      ]
    },
    {
      "cell_type": "markdown",
      "source": [
        "# Assesment for DT Lecture 1"
      ],
      "metadata": {
        "id": "1ohzpK4-uhJS"
      }
    },
    {
      "cell_type": "markdown",
      "source": [
        "\n",
        "\n",
        "---\n",
        "\n",
        "## Decision Tree parametric algo\n",
        "\n",
        "#### Task:  \n",
        "Before we can utilize DT to classify steel plate faults, let's revisit the fundamental characteristics of the algorithm.\n",
        "\n",
        "#### Question:  \n",
        "Is the Decision Tree a parametric algorithm?\n",
        "\n",
        "#### Options:\n",
        "\n",
        "A] Yes\n",
        "\n",
        "B] No"
      ],
      "metadata": {
        "id": "5a2krDSxbc09"
      }
    },
    {
      "cell_type": "markdown",
      "source": [
        "No. Decision Tree is non-parametric algorithm."
      ],
      "metadata": {
        "id": "u0Xmc2YxSEUa"
      }
    },
    {
      "cell_type": "markdown",
      "source": [
        "\n",
        "\n",
        "---\n",
        "\n",
        "## Root Entropy for Decision Tree\n",
        "\n",
        "#### Context:\n",
        "In a Decision Tree classifier, entropy is a crucial measure used to determine the impurity of a node. In the context of the Steel Plant Faults dataset, understanding how to calculate the root entropy will provide insights into the initial uncertainty before any splits.\n",
        "\n",
        "#### Task:\n",
        "Write Python code to transform one-hot encoded fault types into a single 'Target' column and calculate the root entropy. This process involves aggregating multiple binary fault type columns into a single categorical column and then applying the entropy formula.\n",
        "\n",
        "#### Instructions:\n",
        "1. **Create the 'Target' Column:** Combine the one-hot encoded fault type columns ('Pastry', 'Z_Scratch', 'K_Scratch', 'Stains', 'Dirtiness', 'Bumps', 'Other_Faults') into a single 'Target' column that contains the fault type with the maximum value for each row.\n",
        "2. **Entropy Calculation Function:** Define a function `entropy_calc` that calculates the entropy for the 'Target' column, utilizing the probabilities of each fault type.\n",
        "3. **Compute Root Entropy:** Apply the `entropy_calc` function to the 'Target' column to find the root entropy and print the result.\n",
        "\n",
        "#### Question:\n",
        "For this task, how do you transform the one-hot encoded fault types into a single 'Target' column and calculate the root entropy?\n",
        "\n"
      ],
      "metadata": {
        "id": "gSVPyLXhdo-w"
      }
    },
    {
      "cell_type": "code",
      "source": [
        "import numpy as np\n",
        "\n",
        "fault_types = ['Pastry', 'Z_Scratch', 'K_Scatch', 'Stains', 'Dirtiness', 'Bumps', 'Other_Faults']\n",
        "df['Target'] = df[fault_types].idxmax(axis=1)\n",
        "\n",
        "# TODO: Function to calculate entropy\n",
        "def entropy_calc(y):\n",
        "    probabilities = y.value_counts(normalize=True).to_numpy()\n",
        "    entropies = -probabilities * np.log2(probabilities)  # Using log base 2 for entropy calculation\n",
        "    return round(np.sum(entropies), 2)\n",
        "\n",
        "# Calculate root entropy\n",
        "root_entropy = entropy_calc(df['Target'])\n",
        "print(f\"The root entropy is: {root_entropy}\")"
      ],
      "metadata": {
        "id": "wDGrY8MndokY",
        "outputId": "f117ff4c-bef8-4215-dc68-e17cb0e4f57f",
        "colab": {
          "base_uri": "https://localhost:8080/"
        }
      },
      "execution_count": 19,
      "outputs": [
        {
          "output_type": "stream",
          "name": "stdout",
          "text": [
            "The root entropy is: 2.36\n"
          ]
        }
      ]
    },
    {
      "cell_type": "markdown",
      "source": [
        "\n",
        "\n",
        "---\n",
        "\n",
        "## Preprocessing for DT\n",
        "\n",
        "\n",
        "#### Context:\n",
        "In the preparation phase for applying a Decision Tree (DT) classifier to the Steel Plant Faults dataset, various preprocessing steps are considered. It's crucial to identify which of these steps is unnecessary for DT, given its unique properties and how it handles data.\n",
        "\n",
        "#### Question:\n",
        "Which preprocessing step can be generally avoided when implementing a Decision Tree for the Steel Plant Faults dataset, where features are on different scales?\n",
        "\n",
        "#### Options:\n",
        "A) Feature Selection\n",
        "\n",
        "B) Feature Scaling\n",
        "\n",
        "C) SMOTE\n",
        "\n",
        "D) Encoding\n",
        "\n"
      ],
      "metadata": {
        "id": "J5rnU4GSmBku"
      }
    },
    {
      "cell_type": "markdown",
      "source": [
        "Feature scaling"
      ],
      "metadata": {
        "id": "nyQrZbLXh4no"
      }
    },
    {
      "cell_type": "markdown",
      "source": [
        "\n",
        "\n",
        "---\n",
        "## Understanding Decision Tree Characteristics\n",
        "\n",
        "#### Context:\n",
        "In building a Decision Tree (DT) for classification, various concepts and methods play a crucial role in the tree's construction and decision-making process. Understanding these aspects is essential for effectively applying DT in practical scenarios.\n",
        "\n",
        "#### Question:\n",
        "Which of the following statements are correct regarding the construction and characteristics of a Decision Tree?\n",
        "\n",
        "#### Statements to Evaluate:\n",
        "S1: Fill the missing attribute value with the Central Tendency (mean, median, mode) of the attribute.\n",
        "\n",
        "S2: Decision Trees can handle both numerical and categorical data.\n",
        "\n",
        "S3: The root Node is the top-most node of the Tree from where the Tree starts.\n",
        "\n",
        "S4: Information gain is the difference between the entropy of the parent and the weighted average entropy of the children.\n",
        "\n",
        "#### Options:\n",
        "A) S1, S2, S4\n",
        "\n",
        "B) S2, S3, S4\n",
        "\n",
        "C) S1, S2, S3\n",
        "\n",
        "D) S1, S2, S3, S4\n",
        "\n"
      ],
      "metadata": {
        "id": "DRO_9Zq8mN-O"
      }
    },
    {
      "cell_type": "markdown",
      "source": [
        "S1, S2, S3, S4\n"
      ],
      "metadata": {
        "id": "VAViJO8ojFks"
      }
    },
    {
      "cell_type": "markdown",
      "source": [
        "\n",
        "\n",
        "---\n",
        "\n",
        "## Assessing Dataset Balance for Decision Tree Implementation\n",
        "\n",
        "#### Context:\n",
        "Understanding the distribution of classes in a dataset is essential for machine learning tasks, particularly for classification. The balance or imbalance of the dataset can influence the performance and decision-making process of a Decision Tree (DT) classifier.\n",
        "\n",
        "#### Task:\n",
        "You are asked to write a Python script that visualizes the distribution of classes in the Steel Plant Faults dataset to assess its balance. Based on this analysis, you will determine the necessity of applying imbalance-handling techniques when implementing a DT.\n",
        "\n",
        "#### Instructions:\n",
        "1. **Visualize Class Distribution:** Create a bar plot to visualize the count of each fault type ('Pastry', 'Z_Scratch', 'K_Scratch', 'Stains', 'Dirtiness', 'Bumps', 'Other_Faults') in the dataset.\n",
        "2. **Analyze the Plot:** Examine the bar plot to assess whether the dataset is balanced or imbalanced across the different fault types.\n",
        "3. **Decision Tree Consideration:** Decide whether a DT classifier would require imbalance-handling techniques based on the class distribution.\n",
        "\n",
        "#### Question:\n",
        "Based on your analysis of the class distribution in the Steel Plant Faults dataset, is the dataset balanced, and should an imbalance-handling algorithm be applied when implementing a Decision Tree?\n",
        "\n",
        "#### Options:\n",
        "A) The dataset is balanced, and Decision Trees are not affected by data imbalance.\n",
        "\n",
        "B) The dataset is imbalanced, but Decision Trees are not significantly affected by data imbalance.\n",
        "\n",
        "C) The dataset is balanced, but Decision Trees are affected by data imbalance.\n",
        "\n",
        "D) The dataset is imbalanced, and Decision Trees are affected by data imbalance."
      ],
      "metadata": {
        "id": "LxPNGGlSn7s9"
      }
    },
    {
      "cell_type": "code",
      "source": [
        "import seaborn as sns\n",
        "import matplotlib.pyplot as plt\n",
        "\n",
        "fault_types = ['Pastry', 'Z_Scratch', 'K_Scatch', 'Stains', 'Dirtiness', 'Bumps', 'Other_Faults']\n",
        "\n",
        "# TODO: Count number of data points for each fault type\n",
        "fault_counts = df['Target'].value_counts(dropna=False)\n",
        "\n",
        "# Set a custom color palette (optional)\n",
        "custom_palette = sns.color_palette(\"pastel\")\n",
        "\n",
        "# TODO: Create the bar plot to visualize the count of each fault type\n",
        "plt.figure(figsize=(8, 6))  # Adjust figure size\n",
        "sns.barplot(x=fault_types, y=fault_counts.to_numpy(), palette=custom_palette)\n",
        "\n",
        "# Customize labels and title\n",
        "plt.xlabel(\"Classes\", fontsize=12)\n",
        "plt.ylabel(\"Counts\", fontsize=12)\n",
        "plt.title(\"Distribution of Classes\", fontsize=14)\n",
        "\n",
        "# Show the plot\n",
        "plt.tight_layout()  # Ensure labels fit within the figure\n",
        "plt.show()"
      ],
      "metadata": {
        "id": "z4bs6xYJiGIK",
        "outputId": "5c7b15a3-27f8-4719-b2d8-0eaed91c7f43",
        "colab": {
          "base_uri": "https://localhost:8080/",
          "height": 607
        }
      },
      "execution_count": 20,
      "outputs": [
        {
          "output_type": "display_data",
          "data": {
            "text/plain": [
              "<Figure size 800x600 with 1 Axes>"
            ],
            "image/png": "[encoded data removed]"
          },
          "metadata": {}
        }
      ]
    },
    {
      "cell_type": "markdown",
      "source": [
        "\n",
        "\n",
        "---\n",
        "\n",
        "## Find Root Node\n",
        "\n",
        "#### Context:\n",
        "In a Decision Tree, the root node is pivotal as it represents the initial decision point from which further splits are derived. The Gini value at this node offers insight into the node's purity. This exercise involves training a Decision Tree using only two features from the Steel Plant Faults dataset and determining the root node's feature and its Gini value.\n",
        "\n",
        "#### Task:\n",
        "Train a Decision Tree classifier using 'Pixels_Areas' and 'SigmoidOfAreas' as features. Set the `max_depth` to 3 and `random_state` to 42. Determine which feature is chosen as the root node and identify its Gini value.\n",
        "\n",
        "#### Instructions:\n",
        "1. **Feature Selection:** Use 'Pixels_Areas' and 'SigmoidOfAreas' as your features for the Decision Tree.\n",
        "2. **Data Splitting:** Split the dataset into training and testing sets.\n",
        "3. **Model Initialization:** Initialize a Decision Tree Classifier with `max_depth=3` and `random_state=42`.\n",
        "4. **Model Training:** Train the Decision Tree on the training data.\n",
        "5. **Root Node Identification:** Identify the feature used at the root node and find its Gini value.\n",
        "\n",
        "#### Question:\n",
        "After training the Decision Tree with the specified hyperparameters using 'Pixels_Areas' and 'SigmoidOfAreas' as features, which feature becomes the root node, and what is its Gini value?\n",
        "\n",
        "#### Options:\n",
        "A) 'Pixels_Areas' is the root node, with a Gini value of X.\n",
        "\n",
        "B) 'SigmoidOfAreas' is the root node, with a Gini value of Y.\n",
        "\n",
        "C) Both 'Pixels_Areas' and 'SigmoidOfAreas' share the root node, with Gini values of X and Y respectively.\n",
        "\n",
        "D) Neither 'Pixels_Areas' nor 'SigmoidOfAreas' becomes the root node."
      ],
      "metadata": {
        "id": "inRu78UQzFEf"
      }
    },
    {
      "cell_type": "code",
      "source": [
        "from sklearn.tree import DecisionTreeClassifier\n",
        "from sklearn.model_selection import train_test_split\n",
        "\n",
        "# TODO: Selecting the two features for training\n",
        "X = df[['Pixels_Areas','SigmoidOfAreas']]\n",
        "y = df['Target']\n",
        "\n",
        "# TODO: Split the dataset into training and testing sets\n",
        "X_train, X_test, y_train, y_test = train_test_split(X, y, random_state=42)\n",
        "\n",
        "# TODO: Initialize the Decision Tree Classifier with maximum depth if 3 and random_state=42\n",
        "dt_classifier = DecisionTreeClassifier(max_depth=3, random_state=42)\n",
        "\n",
        "# TODO: Train the Decision Tree Classifier on the training data\n",
        "dt_classifier.fit(X_train, y_train)\n",
        "\n",
        "# TODO: Getting the root node feature name and its Gini value\n",
        "# Hint - use documentation to find the property to access the values.\n",
        "root_node_feature_index = dt_classifier.tree_.feature[0]\n",
        "root_node_feature_name = X.columns[root_node_feature_index]\n",
        "root_node_gini_value = dt_classifier.tree_.impurity[0]\n",
        "\n",
        "print(f\"The root node feature is: {root_node_feature_name}\")\n",
        "print(f\"The Gini value of the root node is: {root_node_gini_value:.2f}\")"
      ],
      "metadata": {
        "id": "L-lqBteVoHJk",
        "outputId": "c1bfb6f2-c071-4242-e2fd-2e249b957089",
        "colab": {
          "base_uri": "https://localhost:8080/"
        }
      },
      "execution_count": 21,
      "outputs": [
        {
          "output_type": "stream",
          "name": "stdout",
          "text": [
            "The root node feature is: Pixels_Areas\n",
            "The Gini value of the root node is: 0.77\n"
          ]
        }
      ]
    },
    {
      "cell_type": "markdown",
      "source": [
        "\n",
        "\n",
        "---\n",
        "\n",
        "# Assesment for DT Lecture 2"
      ],
      "metadata": {
        "id": "rXvWujrUum9N"
      }
    },
    {
      "cell_type": "markdown",
      "source": [
        "\n",
        "\n",
        "---\n",
        "## DT- Root Split\n",
        "\n",
        "#### Context:  \n",
        "Understanding the sensitivity of a Decision Tree's structure to changes in the training data can provide insights into the model's stability and robustness. Removing a data point from the dataset may affect the tree's formation, particularly the feature and threshold selected for the root node's split.\n",
        "\n",
        "#### Task:  \n",
        "Consider a scenario where you remove one data point from the dataset used to train a Decision Tree.\n",
        "\n",
        "#### Question:  \n",
        "Which option is true regarding the splitting criteria at the root of the tree if one of the data points is removed?\n",
        "\n",
        "#### Options:  \n",
        "A) The splitting criteria at the root will be the same.  \n",
        "B) The splitting criteria at the root will be different.  \n",
        "C) The splitting criteria at the root could be the same or different.  \n",
        "D) The splitting criteria at the root can’t be related to this removal of the data point.\n",
        "\n",
        "\n"
      ],
      "metadata": {
        "id": "pzYHNsmMuWiO"
      }
    },
    {
      "cell_type": "markdown",
      "source": [
        "C) The splitting criteria at the root could be the same or different.\n"
      ],
      "metadata": {
        "id": "Eocw6qMSdyUf"
      }
    },
    {
      "cell_type": "markdown",
      "source": [
        "\n",
        "\n",
        "---\n",
        "\n",
        "## Most Misclassified DT\n",
        "\n",
        "#### Context:\n",
        "Using class weights in a Decision Tree can help address class imbalance by adjusting the decision criteria toward less represented classes. This task involves applying class weights to a Decision Tree classifier and identifying the class that is most frequently misclassified.\n",
        "\n",
        "#### Task:\n",
        "Write Python code to train a Decision Tree classifier using entropy as the criterion and balanced class weights. Your goal is to determine which class is most misclassified on the test dataset.\n",
        "\n",
        "#### Instructions:\n",
        "1. **Feature and Target Selection:** Prepare your features `X` by dropping the class columns and 'Target', and set `y` as your 'Target'.\n",
        "2. **Data Splitting:** Split the dataset into training and testing sets using `train_test_split` with `random_state=42`.\n",
        "3. **Class Weights Calculation:** Use the 'balanced' option for class weights to handle class imbalance.\n",
        "4. **Initialize and Train Decision Tree:** Create a Decision Tree classifier with entropy criterion, incorporating the calculated class weights. Train this classifier on your training data.\n",
        "5. **Model Prediction and Evaluation:** Use the trained model to predict the classes on the test data. Generate a classification report to evaluate the model's performance across different classes.\n",
        "6. **Identify Most Misclassified Class:** Analyze the recall values from the classification report to identify which class is the most misclassified.\n",
        "\n",
        "#### Question:\n",
        "After applying the described Decision Tree configuration and analyzing the classification report, which class is identified as the most misclassified?\n",
        "\n",
        "#### Options:\n",
        "A) Bumps\n",
        "\n",
        "B) Other_Faults\n",
        "\n",
        "C) Dirtiness\n",
        "\n",
        "D) Pastry\n",
        "\n"
      ],
      "metadata": {
        "id": "tY_Y08WHuuTm"
      }
    },
    {
      "cell_type": "code",
      "source": [
        "df.columns"
      ],
      "metadata": {
        "id": "ry4g8k9Q01DY",
        "outputId": "35b6f7eb-c01d-4584-ff77-33e049bebcfb",
        "colab": {
          "base_uri": "https://localhost:8080/"
        }
      },
      "execution_count": 22,
      "outputs": [
        {
          "output_type": "execute_result",
          "data": {
            "text/plain": [
              "Index(['id', 'X_Minimum', 'X_Maximum', 'Y_Minimum', 'Y_Maximum',\n",
              "       'Pixels_Areas', 'X_Perimeter', 'Y_Perimeter', 'Sum_of_Luminosity',\n",
              "       'Minimum_of_Luminosity', 'Maximum_of_Luminosity', 'Length_of_Conveyer',\n",
              "       'TypeOfSteel_A300', 'TypeOfSteel_A400', 'Steel_Plate_Thickness',\n",
              "       'Edges_Index', 'Empty_Index', 'Square_Index', 'Outside_X_Index',\n",
              "       'Edges_X_Index', 'Edges_Y_Index', 'Outside_Global_Index', 'LogOfAreas',\n",
              "       'Log_X_Index', 'Log_Y_Index', 'Orientation_Index', 'Luminosity_Index',\n",
              "       'SigmoidOfAreas', 'Pastry', 'Z_Scratch', 'K_Scatch', 'Stains',\n",
              "       'Dirtiness', 'Bumps', 'Other_Faults', 'Target'],\n",
              "      dtype='object')"
            ]
          },
          "metadata": {},
          "execution_count": 22
        }
      ]
    },
    {
      "cell_type": "code",
      "source": [
        "from sklearn.tree import DecisionTreeClassifier\n",
        "from sklearn.metrics import classification_report\n",
        "\n",
        "# Prepare our features for training\n",
        "X = df.drop(columns=['Pastry', 'Z_Scratch', 'K_Scatch', 'Stains',\n",
        "       'Dirtiness', 'Bumps', 'Other_Faults', 'Target'], axis =1)\n",
        "y = df['Target']\n",
        "\n",
        "# Split the dataset into training and testing sets\n",
        "X_train, X_test, y_train, y_test = train_test_split(X, y, random_state=42)\n",
        "\n",
        "# TODO: Initialize the Decision Tree classifier with the given hyperparameters and class weights\n",
        "# Hint: Use documentation to find how to balance the class_weights in DecisionTrees\n",
        "dt_classifier = DecisionTreeClassifier(criterion='entropy', random_state=42, class_weight='balanced')\n",
        "\n",
        "# TODO: Train the Decision Tree classifier on training data\n",
        "dt_classifier.fit(X_train, y_train)\n",
        "\n",
        "# TODO: Predict on the test data\n",
        "y_pred = dt_classifier.predict(X_test)\n",
        "\n",
        "# TODO: Generate a classification report to include the metrics for each class\n",
        "report = classification_report(y_pred, y_test, target_names=np.unique(y_train))\n",
        "print(report)"
      ],
      "metadata": {
        "id": "ORVdFsFIvrBq",
        "outputId": "3ef7a64b-c399-41c8-8643-b7ea6fe66599",
        "colab": {
          "base_uri": "https://localhost:8080/"
        }
      },
      "execution_count": 23,
      "outputs": [
        {
          "output_type": "stream",
          "name": "stdout",
          "text": [
            "              precision    recall  f1-score   support\n",
            "\n",
            "       Bumps       0.39      0.39      0.39      1178\n",
            "   Dirtiness       0.18      0.14      0.16       133\n",
            "    K_Scatch       0.83      0.83      0.83       853\n",
            "Other_Faults       0.39      0.41      0.40      1622\n",
            "      Pastry       0.21      0.22      0.22       583\n",
            "      Stains       0.65      0.62      0.63       136\n",
            "   Z_Scratch       0.44      0.40      0.42       300\n",
            "\n",
            "    accuracy                           0.45      4805\n",
            "   macro avg       0.44      0.43      0.44      4805\n",
            "weighted avg       0.45      0.45      0.45      4805\n",
            "\n"
          ]
        }
      ]
    },
    {
      "cell_type": "markdown",
      "source": [
        "* Dirtiness has low precision and low recall thus low f1 score. It is mostly misclassified"
      ],
      "metadata": {
        "id": "quZDS6j8go0q"
      }
    },
    {
      "cell_type": "markdown",
      "source": [
        "\n",
        "\n",
        "---\n",
        "\n",
        "## Splitting Data\n",
        "\n",
        "#### Context:\n",
        "In Decision Trees, achieving a node where each child contains samples exclusively from one class represents an ideal split where classes are perfectly separated. Such scenarios prompt specific decisions on how to proceed with further splits or terminate the tree building process.\n",
        "\n",
        "#### Task:\n",
        "You have a Decision Tree where the feature `X_minimum` leads to a node split such that each of its 7 children contains samples belonging exclusively to one class. Decide the next steps in the tree construction process.\n",
        "\n",
        "#### Question:\n",
        "If using the feature `X_minimum` results in each child node containing samples from exactly one class, what should you do next?\n",
        "\n",
        "#### Options:\n",
        "A) Find another feature to split the node further.\n",
        "\n",
        "B) Declare it as a leaf node since it is a pure node.\n",
        "\n",
        "C) Always terminate the recursions on all branches and return the current tree.\n",
        "\n",
        "D) Go back to the parent node and select a different feature to split the data so that y-values are not all the same at this node.\n"
      ],
      "metadata": {
        "id": "Uhga3yhe5T8K"
      }
    },
    {
      "cell_type": "markdown",
      "source": [
        "B) Declare it as a leaf node since it is a pure node"
      ],
      "metadata": {
        "id": "b_f3PHNKiB04"
      }
    },
    {
      "cell_type": "markdown",
      "source": [
        "\n",
        "\n",
        "---\n",
        "\n",
        "## Decision Trees Characteristics\n",
        "\n",
        "#### Context:  \n",
        "Decision Trees are a fundamental machine learning algorithm used for both classification and regression tasks. Understanding their characteristics, capabilities, and limitations is crucial for effectively applying them to solve real-world problems.\n",
        "\n",
        "#### Question:  \n",
        "Which of the following statements are true regarding the properties and behavior of Decision Trees?\n",
        "\n",
        "#### Statements to Evaluate:  \n",
        "1\\. Decision tree makes no assumptions about the data.  \n",
        "2\\. The decision tree model can learn non-linear decision boundaries.  \n",
        "3\\. Decision trees cannot explain how the target will change if a variable is changed by 1 unit (marginal effect).  \n",
        "4\\. Hyperparameter tuning is not required in decision trees.  \n",
        "5\\. In a decision tree, increasing entropy implies increasing purity.  \n",
        "6\\. In a decision tree, the entropy of a node decreases as we go down the decision tree.\n",
        "\n",
        "#### Options:  \n",
        "A) 1, 2, and 5  \n",
        "B) 3, 5, and 6  \n",
        "C) 2, 3, 4, and 5  \n",
        "D) 1, 2, 3, and 6"
      ],
      "metadata": {
        "id": "U2efMO6j8VXH"
      }
    },
    {
      "cell_type": "markdown",
      "source": [
        "D) 1,2,3 and 6"
      ],
      "metadata": {
        "id": "du6EqhZFiynd"
      }
    },
    {
      "cell_type": "markdown",
      "source": [
        "\n",
        "\n",
        "---\n",
        "## Optimizing Decision Tree Depth\n",
        "\n",
        "#### Context:\n",
        "Cross-validation is an essential technique for assessing the generalizability of machine learning models. In this task, you will use k-fold cross-validation to determine the optimal depth for a Decision Tree classifier that maximizes accuracy on a given dataset.\n",
        "\n",
        "#### Task:\n",
        "Write Python code to perform k-fold cross-validation on a series of Decision Tree models with varying depths. The goal is to identify the tree depth that results in the best performance on the test data.\n",
        "\n",
        "#### Instructions:\n",
        "1. **Define Depth Values:** Use the list of depths `[3, 5, 7, 11, 13, 15, 19, 20]` to evaluate which tree depth provides the best model performance.\n",
        "2. **Initialize K-Fold Cross-Validation:** Set up a `KFold` instance with 10 splits and `random_state=42` to ensure reproducibility.\n",
        "3. **Cross-Validation Loop:** For each depth in your list, initialize a Decision Tree with `class_weight='balanced'`. Perform cross-validation and record the training and validation accuracies.\n",
        "4. **Determine Best Depth:** Analyze the cross-validation results to select the depth that provides the highest validation accuracy.\n",
        "5. **Train and Evaluate the Best Model:** Using the identified best depth, train a new Decision Tree on the entire training set and evaluate its performance on the test set.\n",
        "\n",
        "#### Question:\n",
        "Based on your cross-validation results, which depth should be selected for the Decision Tree to achieve optimal performance, and what is the test accuracy for this depth?"
      ],
      "metadata": {
        "id": "sCkDaYHm9K8d"
      }
    },
    {
      "cell_type": "code",
      "source": [
        "import numpy as np\n",
        "from sklearn.tree import DecisionTreeClassifier\n",
        "from sklearn.model_selection import KFold, cross_validate\n",
        "\n",
        "# Define the list of tree depths you want to evaluate\n",
        "depths = [3, 5, 7, 11, 13, 15, 19, 20]\n",
        "\n",
        "# TODO: Setup KFold with 10 splits and a fixed random state\n",
        "kfold = KFold(n_splits=10, shuffle=True, random_state=42)\n",
        "\n",
        "for depth in depths:\n",
        "    # TODO: Initialize Decision Tree Classifier with the current depth\n",
        "    tree_clf = DecisionTreeClassifier(max_depth=depth, random_state=42, class_weight='balanced')\n",
        "\n",
        "    # TODO: Perform cross-validation\n",
        "    cv_acc_results = cross_validate(tree_clf, X_train, y_train, cv=kfold, scoring='accuracy', return_train_score=True)\n",
        "\n",
        "    # Output the mean and standard deviation of the training and validation scores\n",
        "    print(f\"K-Fold for depth: {depth} - Accuracy Mean: Train: {cv_acc_results['train_score'].mean() * 100:.2f}%, Validation: {cv_acc_results['test_score'].mean() * 100:.2f}%\")\n",
        "    print(f\"K-Fold for depth: {depth} - Accuracy Std: Train: {cv_acc_results['train_score'].std() * 100:.2f}%, Validation: {cv_acc_results['test_score'].std() * 100:.2f}%\")\n",
        "    print('***************')\n",
        "\n",
        "# Testing the best depth on the testing data\n",
        "best_tree_clf = DecisionTreeClassifier(max_depth=5, random_state=42, class_weight='balanced')\n",
        "best_tree_clf.fit(X_train, y_train)\n",
        "print(f\"The model accuracy on testing data with best depth is {best_tree_clf.score(X_test, y_test)}\")"
      ],
      "metadata": {
        "id": "oZ8WjnwixQt-",
        "outputId": "f0dc6e08-646e-4319-8a3a-91b571da1d00",
        "colab": {
          "base_uri": "https://localhost:8080/"
        }
      },
      "execution_count": 24,
      "outputs": [
        {
          "output_type": "stream",
          "name": "stdout",
          "text": [
            "K-Fold for depth: 3 - Accuracy Mean: Train: 42.29%, Validation: 42.19%\n",
            "K-Fold for depth: 3 - Accuracy Std: Train: 0.32%, Validation: 1.25%\n",
            "***************\n",
            "K-Fold for depth: 5 - Accuracy Mean: Train: 50.11%, Validation: 49.67%\n",
            "K-Fold for depth: 5 - Accuracy Std: Train: 1.49%, Validation: 1.45%\n",
            "***************\n",
            "K-Fold for depth: 7 - Accuracy Mean: Train: 46.70%, Validation: 44.65%\n",
            "K-Fold for depth: 7 - Accuracy Std: Train: 0.83%, Validation: 1.41%\n",
            "***************\n",
            "K-Fold for depth: 11 - Accuracy Mean: Train: 57.57%, Validation: 46.70%\n",
            "K-Fold for depth: 11 - Accuracy Std: Train: 0.65%, Validation: 0.88%\n",
            "***************\n",
            "K-Fold for depth: 13 - Accuracy Mean: Train: 65.73%, Validation: 48.13%\n",
            "K-Fold for depth: 13 - Accuracy Std: Train: 0.42%, Validation: 1.43%\n",
            "***************\n",
            "K-Fold for depth: 15 - Accuracy Mean: Train: 74.58%, Validation: 48.04%\n",
            "K-Fold for depth: 15 - Accuracy Std: Train: 0.77%, Validation: 1.23%\n",
            "***************\n",
            "K-Fold for depth: 19 - Accuracy Mean: Train: 88.18%, Validation: 48.24%\n",
            "K-Fold for depth: 19 - Accuracy Std: Train: 0.93%, Validation: 1.33%\n",
            "***************\n",
            "K-Fold for depth: 20 - Accuracy Mean: Train: 90.35%, Validation: 48.10%\n",
            "K-Fold for depth: 20 - Accuracy Std: Train: 0.89%, Validation: 1.27%\n",
            "***************\n",
            "The model accuracy on testing data with best depth is 0.495525494276795\n"
          ]
        }
      ]
    },
    {
      "cell_type": "markdown",
      "source": [
        "A) 5"
      ],
      "metadata": {
        "id": "HZFGkFYllHBf"
      }
    },
    {
      "cell_type": "markdown",
      "source": [
        "\n",
        "\n",
        "---\n",
        "\n",
        "## DT - Feature Importance\n",
        "\n",
        "#### Context:\n",
        "Understanding which features most significantly impact the predictions of a Decision Tree is crucial for refining models and enhancing interpretability. This task involves identifying the top three features based on their importance scores from a trained Decision Tree.\n",
        "\n",
        "#### Task:\n",
        "Write Python code to analyze the feature importance from a Decision Tree (`best_tree_clf`) and identify the top three most influential features.\n",
        "\n",
        "#### Instructions:\n",
        "1. **Retrieve Feature Importances:** Extract the importance scores of all features from the `best_tree_clf`.\n",
        "2. **Rank Features by Importance:** Sort the features by their importance in descending order.\n",
        "3. **Identify Top Three Features:** Determine the three features with the highest importance scores.\n",
        "4. **Visualize Feature Importance:** Optionally, create a bar plot to visually represent the importance of each feature, which can aid in understanding their relative contributions to the model's decisions.\n",
        "\n",
        "#### Question:\n",
        "After executing your script to analyze feature importances in the Decision Tree, which three features are identified as the most influential based on their importance scores?\n",
        "\n",
        "#### Options:\n",
        "A) `Outside_X_Index`, `Pixels_Areas`, `Length_of_Conveyer`\n",
        "\n",
        "B) `X_Minimum`, `Y_Maximum`, `Sum_of_Luminosity`\n",
        "\n",
        "C) `Maximum_of_Luminosity`, `Edges_Index`, `Steel_Plate_Thickness`\n",
        "\n",
        "D) `TypeOfSteel_A300`, `Edges_Y_Index`, `LogOfAreas`\n",
        "\n"
      ],
      "metadata": {
        "id": "FUq956RvB5Hz"
      }
    },
    {
      "cell_type": "code",
      "source": [
        "feature_names = X_train.columns\n",
        "\n",
        "# TODO: Get feature importances of the best_tree_clf from 'previous question'\n",
        "feature_importances = best_tree_clf.feature_importances_\n",
        "\n",
        "# TODO: Sort the features by importance (get their indices only not the values. )\n",
        "sorted_idx = np.argsort(feature_importances)[::-1]  # This sorts indices by importance from high to low\n",
        "\n",
        "# Output the top 3 features\n",
        "print(\"Top 3 features:\")\n",
        "for i in range(3):\n",
        "    feature_index = sorted_idx[i]\n",
        "    print(f\"{i+1}. {feature_names[feature_index]} with an importance of {feature_importances[feature_index]:.4f}\")\n",
        "\n",
        "sorted_feature_names = [feature_names[i] for i in sorted_idx]\n",
        "sorted_importances = feature_importances[sorted_idx]\n",
        "\n",
        "# TODO: Create a horizontal bar plot for the feature importances\n",
        "plt.figure(figsize=(10, 6))\n",
        "plt.barh(range(len(sorted_importances)), sorted_feature_names, align='center', color='dodgerblue')\n",
        "plt.yticks(range(len(sorted_importances)), sorted_feature_names)\n",
        "plt.xlabel('Importance')\n",
        "plt.ylabel('Feature Names')\n",
        "plt.title('Feature Importance from Decision Tree')\n",
        "plt.gca().invert_yaxis()  # Invert y-axis to have the highest importance on top\n",
        "plt.show()"
      ],
      "metadata": {
        "id": "MaiJwubO-uGG",
        "outputId": "b0ef6ef5-f382-487c-db29-9c8b2902b74e",
        "colab": {
          "base_uri": "https://localhost:8080/",
          "height": 636
        }
      },
      "execution_count": 25,
      "outputs": [
        {
          "output_type": "stream",
          "name": "stdout",
          "text": [
            "Top 3 features:\n",
            "1. Outside_X_Index with an importance of 0.3198\n",
            "2. Pixels_Areas with an importance of 0.2949\n",
            "3. Length_of_Conveyer with an importance of 0.1254\n"
          ]
        },
        {
          "output_type": "display_data",
          "data": {
            "text/plain": [
              "<Figure size 1000x600 with 1 Axes>"
            ],
            "image/png": "[encoded data removed]"
          },
          "metadata": {}
        }
      ]
    },
    {
      "cell_type": "markdown",
      "source": [
        "\n",
        "\n",
        "---\n",
        "\n",
        "# Assesment for Bagging\n"
      ],
      "metadata": {
        "id": "fqR-fRBMFXcW"
      }
    },
    {
      "cell_type": "markdown",
      "source": [
        "## Role of Ensemble Methods\n",
        "\n",
        "\n",
        "#### Question:\n",
        "Choose the correct statements concerning the use of ensemble algorithms with Decision Trees in machine learning.\n",
        "\n",
        "#### Statements to Evaluate:\n",
        "S1: To improve our Decision Tree model performance, an ensemble algorithm is used.\n",
        "S2: The Decision Tree model in our dataset was overfitting, hence an ensemble algorithm was used.\n",
        "S3: Ensemble uses many independent models and aggregates their output.\n",
        "S4: The Decision Tree model in our dataset was underfitting, hence an ensemble algorithm was used.\n",
        "\n",
        "#### Options:\n",
        "A) S1, S2, S3\n",
        "\n",
        "B) S1, S3, S4\n",
        "\n",
        "C) S2, S3, S4\n",
        "\n",
        "D) All of the above\n"
      ],
      "metadata": {
        "id": "N28YS0n9bWSL"
      }
    },
    {
      "cell_type": "markdown",
      "source": [
        "A) S1,S2,S3"
      ],
      "metadata": {
        "id": "0SFo2F0iYbtI"
      }
    },
    {
      "cell_type": "markdown",
      "source": [
        "\n",
        "\n",
        "---\n",
        "\n",
        "## SMOTE imbalance\n",
        "\n",
        "\n",
        "#### Context:\n",
        "The Synthetic Minority Over-sampling Technique (SMOTE) is employed to handle class imbalance by generating synthetic samples for minority classes. This technique is crucial for ensuring that machine learning models do not become biased towards the majority class.\n",
        "\n",
        "#### Task:\n",
        "Using the SMOTE technique, determine the resulting sample size for each class after applying the algorithm. You are to predict the uniform size that each class will have post-SMOTE, assuming SMOTE balances all classes to the size of the originally largest class.\n",
        "\n",
        "#### Instructions:\n",
        "1. **Review Initial Class Distribution:** Start by analyzing the initial distribution of your classes. This will help you understand the extent of the imbalance you need to address.\n",
        "2. **Apply SMOTE:** Implement the SMOTE technique on your dataset to balance the class distribution. Use `random_state=42` for reproducibility.\n",
        "3. **Analyze Post-SMOTE Distribution:** After applying SMOTE, examine the new class sizes. All classes should now reflect the size of the largest original class if SMOTE has been applied correctly.\n",
        "4. **Determine Uniform Class Size:** From the balanced dataset, identify the uniform size to which all classes have been adjusted.\n",
        "\n",
        "#### Question:\n",
        "What will be the sample size for each class after applying SMOTE, given that SMOTE adjusts all classes to the size of the largest class present before balancing?\n",
        "\n",
        "#### Options:\n",
        "A) 6540\n",
        "\n",
        "B) 5530\n",
        "\n",
        "C) 7000\n",
        "\n",
        "D) 4210\n",
        "\n"
      ],
      "metadata": {
        "id": "cNJU-HkgdDfl"
      }
    },
    {
      "cell_type": "code",
      "source": [
        "from imblearn.over_sampling import SMOTE\n",
        "\n",
        "# TODO: Count class instances before SMOTE from the variable ('y')\n",
        "print(\"\\Before SMOTE:\")\n",
        "print(y.value_counts())\n",
        "\n",
        "# TODO: Apply SMOTE\n",
        "smote = SMOTE(random_state=42)\n",
        "X_resampled, y_resampled = smote.fit_resample(X,y)\n",
        "\n",
        "# TODO: Count class instances after SMOTE on variable 'y_resampled'\n",
        "print(\"\\nAfter SMOTE:\")\n",
        "print(y_resampled.value_counts())"
      ],
      "metadata": {
        "id": "SF2wTOZLDsZC",
        "outputId": "4b530213-cdd9-406a-d3c1-6ac30d36aae7",
        "colab": {
          "base_uri": "https://localhost:8080/"
        }
      },
      "execution_count": 26,
      "outputs": [
        {
          "output_type": "stream",
          "name": "stdout",
          "text": [
            "\\Before SMOTE:\n",
            "Target\n",
            "Other_Faults    6540\n",
            "Bumps           4761\n",
            "K_Scatch        3431\n",
            "Pastry          2284\n",
            "Z_Scratch       1150\n",
            "Stains           568\n",
            "Dirtiness        485\n",
            "Name: count, dtype: int64\n",
            "\n",
            "After SMOTE:\n",
            "Target\n",
            "Stains          6540\n",
            "Other_Faults    6540\n",
            "K_Scatch        6540\n",
            "Bumps           6540\n",
            "Pastry          6540\n",
            "Z_Scratch       6540\n",
            "Dirtiness       6540\n",
            "Name: count, dtype: int64\n"
          ]
        }
      ]
    },
    {
      "cell_type": "markdown",
      "source": [
        "\n",
        "\n",
        "---\n",
        "## Understanding OOB\n",
        "\n",
        "\n",
        "#### Context:\n",
        "In ensemble methods such as Random Forests that utilize bootstrapping, Out-Of-Bag (OOB) data plays a critical role in estimating the model's performance without needing a separate validation set. Understanding what OOB data represents is key to effectively using these ensemble methods in practice.\n",
        "\n",
        "#### Task:\n",
        "Explain the concept of OOB data in the context of ensemble models that use bootstrapping techniques.\n",
        "\n",
        "#### Question:\n",
        "What does OOB data represent in the context of bootstrapping used in ensemble learning methods?\n",
        "\n",
        "#### Statements:\n",
        "S1:  OOB data is the remaining samples which are not selected by bootstrapping.\n",
        "\n",
        "S2:  OOB data is the remaining samples in the validation dataset.\n",
        "\n",
        "S3:  OOB data is the used samples which were selected by bootstrapping.\n",
        "\n",
        "S4:  OOB data is the used samples in the validation dataset.\n"
      ],
      "metadata": {
        "id": "tYGLlQuGjwjb"
      }
    },
    {
      "cell_type": "markdown",
      "source": [
        "S1: OOB data is the remaining samples which are not selected by bootstrapping."
      ],
      "metadata": {
        "id": "08ukiZT4pTEQ"
      }
    },
    {
      "cell_type": "markdown",
      "source": [
        "\n",
        "\n",
        "---\n",
        "\n",
        "## Comparing OOB Scores\n",
        "\n",
        "#### Context:\n",
        "The Out-Of-Bag (OOB) score in Random Forest models offers a unique method of validation by utilizing unsampled data points during the training process as a test set. This task involves comparing the OOB scores of a Random Forest classifier trained on original versus SMOTE-resampled data to evaluate how class balancing affects model performance.\n",
        "\n",
        "#### Task:\n",
        "Implement and compare two Random Forest classifiers: one trained on the original dataset and another on a dataset resampled using SMOTE. Your goal is to analyze the difference in OOB scores between these two approaches.\n",
        "\n",
        "#### Instructions:\n",
        "1. **Balance the Dataset Using SMOTE:** Apply SMOTE to the original dataset to balance class distributions, ensuring that minority classes are adequately represented.\n",
        "2. **Split Both Datasets:** Split both the original and the SMOTE-resampled datasets into training and testing sets using a 33% test size and a random state of 42.\n",
        "3. **Initialize and Train Two Random Forests:** Create two Random Forest classifiers with `oob_score=True` and `random_state=42`. Train one on the original training set and another on the resampled training set.\n",
        "4. **Retrieve and Compare OOB Scores:** After training, extract the OOB scores from both classifiers to measure and compare their estimated performance based on the OOB samples.\n",
        "\n",
        "#### Question:\n",
        "After training Random Forest models on both original and SMOTE-resampled datasets, how do the OOB scores compare, and what does this indicate about the impact of class balancing on model performance?\n",
        "\n",
        "#### Options:\n",
        "A) OOB score is higher for the original dataset, indicating better generalization without resampling.\n",
        "\n",
        "B) OOB score is higher for the SMOTE-resampled dataset, suggesting improved model performance due to better class balance.\n",
        "\n",
        "C) OOB scores are similar, indicating no significant impact from SMOTE resampling on model validation.\n",
        "\n",
        "D) OOB score is lower for the SMOTE-resampled dataset, which may indicate overfitting due to class oversampling.\n",
        "\n",
        "\n",
        "\n"
      ],
      "metadata": {
        "id": "cgE3IKCYjxvy"
      }
    },
    {
      "cell_type": "code",
      "source": [
        "from sklearn.ensemble import RandomForestClassifier\n",
        "\n",
        "# TODO: Split the original data into training and testing sets\n",
        "X_train_orig, X_test_orig, y_train_orig, y_test_orig = train_test_split(X, y, test_size=0.33, random_state=42)\n",
        "\n",
        "# TODO: Split the resampled data into training and testing sets\n",
        "X_train_res, X_test_res, y_train_res, y_test_res = train_test_split(X_resampled, y_resampled, test_size=0.33, random_state=42)\n",
        "\n",
        "# TODO: Initialize a Random Forest classifier for the original data\n",
        "rf_classifier_orig = RandomForestClassifier(oob_score=True, random_state=42) # Hint: Set `oob score` to True\n",
        "\n",
        "# TODO: Train the classifier on the original data\n",
        "rf_classifier_orig.fit(X_train_orig, y_train_orig)\n",
        "\n",
        "# TODO: Retrieve the OOB score for the original data\n",
        "oob_score_orig = rf_classifier_orig.oob_score_ # Hint: Use documentation to access oob score.\n",
        "print(f\"The OOB score for original data is: {oob_score_orig:.4f}\")\n",
        "\n",
        "# Initialize a Random Forest classifier for the resampled data\n",
        "rf_classifier_res = RandomForestClassifier(oob_score=True, random_state=42) # Hint: Set `oob score` to True\n",
        "\n",
        "# TODO: Train the classifier on the resampled data\n",
        "rf_classifier_res.fit(X_train_res, y_train_res)\n",
        "\n",
        "# TODO: Retrieve the OOB score for the resampled data\n",
        "oob_score_res = rf_classifier_res.oob_score_\n",
        "print(f\"The OOB score for resampled data is: {oob_score_res:.4f}\")\n"
      ],
      "metadata": {
        "id": "QyaXur2egRuS",
        "outputId": "ca4627d2-3f1a-4296-cbed-61224887f28b",
        "colab": {
          "base_uri": "https://localhost:8080/"
        }
      },
      "execution_count": 27,
      "outputs": [
        {
          "output_type": "stream",
          "name": "stdout",
          "text": [
            "The OOB score for original data is: 0.5553\n",
            "The OOB score for resampled data is: 0.7644\n"
          ]
        }
      ]
    },
    {
      "cell_type": "markdown",
      "source": [
        "B) OOB score is higher for the SMOTE-resampled dataset, suggesting improved model performance due to better class balance."
      ],
      "metadata": {
        "id": "6NjmMhT_qolq"
      }
    },
    {
      "cell_type": "markdown",
      "source": [
        "\n",
        "\n",
        "---\n",
        "\n",
        "## Most Accurate Class\n",
        "\n",
        "#### Context:\n",
        "Random Forest (RF) is a powerful ensemble classifier known for its accuracy and robustness. Understanding which class is most accurately predicted by the RF model can provide insights into the model's strengths and potential biases.\n",
        "\n",
        "#### Task:\n",
        "Use the previously trained rf_classifier, then analyze its predictions to determine which class is predicted most accurately based on recall from the classification report.\n",
        "\n",
        "#### Instructions:\n",
        "1. **Random Forest:** Use the previously trained rf_classifier on SMOTE data.\n",
        "2. **Predict Class Labels:** Use the trained classifier to predict labels for the test set.\n",
        "3. **Generate Classification Report:** Use `classification_report` from `sklearn.metrics` to generate detailed performance metrics for each class.\n",
        "4. **Analyze Recall Values:** Recall for each class indicates the proportion of actual positives that were correctly identified. Identify which class has the highest recall, signifying it as the most accurately predicted class.\n",
        "\n",
        "#### Question:\n",
        "Based on the Random Forest model's predictions, which class is the most accurately predicted in terms of recall?\n",
        "\n",
        "#### Options:\n",
        "A) Pastry\n",
        "\n",
        "B) Z_scratch\n",
        "\n",
        "C) K_scratch\n",
        "\n",
        "D) Stains\n"
      ],
      "metadata": {
        "id": "qZH3gQnH_B6_"
      }
    },
    {
      "cell_type": "code",
      "source": [
        "from sklearn.metrics import classification_report, confusion_matrix\n",
        "\n",
        "# TODO: Predict the classes for the test set for the resampled data\n",
        "y_pred = rf_classifier_res.predict(X_test_res)\n",
        "\n",
        "# Generate the classification report\n",
        "class_report = classification_report(y_pred, y_test_res, output_dict=True)\n",
        "\n",
        "# Print the classification report for human reading\n",
        "print(classification_report(y_pred, y_test_res))\n",
        "\n",
        "# Find the class with the highest recall (indicating the most correctly classified)\n",
        "most_correctly_classified = max(class_report.keys(), key=lambda x: class_report[x]['recall'] if x != 'accuracy' and isinstance(class_report[x], dict) else 0)\n",
        "most_correctly_classified_score = class_report[most_correctly_classified]['recall']\n",
        "\n",
        "print(f\"The most correctly classified class is: {most_correctly_classified} with a recall of: {most_correctly_classified_score:.4f}\")"
      ],
      "metadata": {
        "id": "lZOLTDYb8QLD",
        "outputId": "b75096a8-8ebc-41aa-f448-412874912354",
        "colab": {
          "base_uri": "https://localhost:8080/"
        }
      },
      "execution_count": 15,
      "outputs": [
        {
          "output_type": "stream",
          "name": "stdout",
          "text": [
            "              precision    recall  f1-score   support\n",
            "\n",
            "       Bumps       0.60      0.55      0.57      2299\n",
            "   Dirtiness       0.94      0.82      0.88      2406\n",
            "    K_Scatch       0.94      0.93      0.94      2242\n",
            "Other_Faults       0.38      0.54      0.44      1542\n",
            "      Pastry       0.63      0.70      0.66      1996\n",
            "      Stains       0.99      0.95      0.97      2225\n",
            "   Z_Scratch       0.93      0.84      0.89      2398\n",
            "\n",
            "    accuracy                           0.77     15108\n",
            "   macro avg       0.77      0.76      0.76     15108\n",
            "weighted avg       0.80      0.77      0.78     15108\n",
            "\n",
            "The most correctly classified class is: Stains with a recall of: 0.9501\n"
          ]
        }
      ]
    },
    {
      "cell_type": "markdown",
      "source": [
        "\n",
        "\n",
        "---\n",
        "\n",
        "## Know your RF\n",
        "\n",
        "#### Context:\n",
        "Random Forest is an ensemble method that builds multiple decision trees and combines their predictions to improve accuracy and control overfitting. The placement of features within these trees, especially influential ones like 'Outside_X_index', can significantly affect the model's performance and interpretation.\n",
        "\n",
        "#### Task:\n",
        "Evaluate the statement regarding the placement of a strong predictor within the base learners of a Random Forest. The statement suggests that if 'Outside_X_index' is a very strong predictor, it will be the root node in all the base learners (Decision Trees) of the Random Forest.\n",
        "\n",
        "#### Question:\n",
        "Is the statement \"If 'Outside_X_index' is a very strong predictor of the output variable, then all of the base learners (DT) in a Random Forest will have this feature as the root node\" true or false?\n",
        "\n",
        "#### Options:\n",
        "A) True\n",
        "\n",
        "B) False\n"
      ],
      "metadata": {
        "id": "RWKVEVIgBNED"
      }
    },
    {
      "cell_type": "markdown",
      "source": [
        "b) False"
      ],
      "metadata": {
        "id": "bb6f1FZF_Rri"
      }
    },
    {
      "cell_type": "markdown",
      "source": [
        "\n",
        "---\n",
        "\n",
        "## Optimizing RandomForest\n",
        "\n",
        "#### Context:\n",
        "Randomized Search is an efficient method for hyperparameter tuning that explores a given parameter space to find the optimal settings for a machine learning model. This approach helps enhance model performance by systematically testing different combinations of parameters.\n",
        "\n",
        "#### Task:\n",
        "Implement a Randomized Search CV to optimize a RandomForest Classifier using a specific set of hyperparameters. The goal is to identify the best combination of parameters that leads to the highest cross-validation score.\n",
        "\n",
        "#### Instructions:\n",
        "1. **Set Up Parameter Grid:** Define a parameter grid that includes potential values for 'n estimators', 'max depth', 'min samples split', and 'min samples_leaf'.\n",
        "2. **Initialize RandomForest:** Create a RandomForest classifier ensuring to set `random_state=42` for reproducibility.\n",
        "3. **Configure RandomizedSearchCV:** Set up RandomizedSearchCV with the RandomForest classifier, the defined parameter grid, and specify `n_iter=30` and `cv=2` for 30 iterations with 2-fold cross-validation. Also set `random_state=42`.\n",
        "4. **Execute the Search:** Fit the RandomizedSearchCV on your dataset to find the best parameter settings.\n",
        "5. **Report Results:** Output the best parameters and the best cross-validation score obtained.\n",
        "\n",
        "#### Parameters for Search:\n",
        "```python\n",
        "params = {\n",
        "    'n_estimators': [50, 100, 200],\n",
        "    'max_depth': [None, 10, 20, 30],\n",
        "    'min_samples_split': [2, 5, 10],\n",
        "    'min_samples_leaf': [1, 2, 4]\n",
        "}\n",
        "```\n",
        "\n",
        "#### Question:\n",
        "After performing Randomized Search with the specified parameters on a RandomForest model, what will be the best parameters?\n",
        "\n",
        "#### Options:\n",
        "A) {'n_estimators': 100, 'min_samples_split': 2, 'min_samples_leaf': 1, 'max_depth': 10}\n",
        "\n",
        "B) {'n_estimators': 50, 'min_samples_split': 2, 'min_samples_leaf': 1, 'max_depth': None}\n",
        "\n",
        "C) {'n_estimators': 200, 'min_samples_split': 2, 'min_samples_leaf': 1, 'max_depth': 10}\n",
        "\n",
        "D) {'n_estimators': 200, 'min_samples_split': 2, 'min_samples_leaf': 1, 'max_depth': 30}\n",
        "\n",
        "#### Note:\n",
        "The parameter grid provided here is intentionally limited due to time constraints and is mainly for practice purposes. To potentially achieve better results, consider expanding the range of parameters and allowing more time for tuning. The current setup is designed to provide a basic understanding of how parameter tuning affects model performance but does not guarantee optimal results."
      ],
      "metadata": {
        "id": "0uD_pbpnBf3E"
      }
    },
    {
      "cell_type": "code",
      "source": [
        "from sklearn.model_selection import RandomizedSearchCV\n",
        "\n",
        "# Define a more extensive parameter grid for Random Search\n",
        "params = {\n",
        "    'n_estimators': [50, 100, 200],\n",
        "    'max_depth': [None, 10, 20, 30],\n",
        "    'min_samples_split': [2, 5, 10],\n",
        "    'min_samples_leaf': [1, 2, 4],\n",
        "}\n",
        "\n",
        "# Initialize the RandomForest classifier\n",
        "rf = RandomForestClassifier(random_state=42)\n",
        "\n",
        "# TODO: Setup RandomizedSearchCV with randomforest model,  30 iterations and 2-fold cross-validation\n",
        "random_search = RandomizedSearchCV(rf, param_distributions=params, n_iter=30, cv=2, verbose=1, random_state=42)\n",
        "\n",
        "# TODO: Perform the Random Search\n",
        "random_search.fit(X_train_res, y_train_res)\n",
        "\n",
        "# Print the best parameters and the best score\n",
        "print(\"Best parameters found: \", random_search.best_params_)\n",
        "print(\"Best cross-validation score achieved: \", random_search.best_score_)"
      ],
      "metadata": {
        "id": "zSeuTr-qB-_s",
        "outputId": "948283c1-8b5b-4652-af5e-f3c4ed7765d6",
        "colab": {
          "base_uri": "https://localhost:8080/"
        }
      },
      "execution_count": 31,
      "outputs": [
        {
          "output_type": "stream",
          "name": "stdout",
          "text": [
            "Fitting 2 folds for each of 30 candidates, totalling 60 fits\n",
            "Best parameters found:  {'n_estimators': 200, 'min_samples_split': 2, 'min_samples_leaf': 1, 'max_depth': 30}\n",
            "Best cross-validation score achieved:  0.7439684402712572\n"
          ]
        }
      ]
    },
    {
      "cell_type": "markdown",
      "source": [
        "\n",
        "\n",
        "---\n",
        "\n",
        "## RF for Feature Importance\n",
        "\n",
        "#### Context:\n",
        "Random Forest (RF) classifiers not only provide robust predictive capabilities but also offer insights into feature importance within the dataset. This ability to evaluate feature significance is crucial for understanding the factors that most strongly influence the model's predictions.\n",
        "\n",
        "#### Task:\n",
        "Confirm if a RandomForest can be used to derive feature importances and identify the most important feature according to the best-performing model obtained from RandomizedSearchCV.\n",
        "\n",
        "#### Instructions:\n",
        "1. **Retrieve Best Model:** Obtain the best RandomForest model from the RandomizedSearchCV results.\n",
        "2. **Extract Feature Importances:** From the best model, extract the feature importance scores.\n",
        "3. **Identify and Sort Features:** Get the names of the features used in the model and sort them by their importance scores in descending order.\n",
        "4. **Visualize Feature Importances:** Generate a plot to visually display the importance of each feature, emphasizing the feature with the highest score.\n",
        "5. **Determine the Most Important Feature:** Identify and report the feature with the highest importance score.\n",
        "\n",
        "#### Question:\n",
        "Can Feature Importance be effectively applied using a RandomForest classifier? If so, which is the most important feature according to the best RF model from your analysis?\n",
        "\n",
        "#### Options:\n",
        "A) Yes, RF can be used for Feature Importance, and the most important feature is 'Outside-Global-Index'.\n",
        "\n",
        "B) Yes, RF can be used for Feature Importance, and the most important feature is 'Length_of_Conveyer'.\n",
        "\n",
        "C) Yes, RF can be used for Feature Importance, and the most important feature is 'Luminosity-lndex'.\n",
        "\n",
        "D) No, RF cannot be used for Feature Importance.\n",
        "\n"
      ],
      "metadata": {
        "id": "NlAQwPF7gmTZ"
      }
    },
    {
      "cell_type": "code",
      "source": [
        "# TODO: Get the best RandomForest model from RandomizedSearchCV\n",
        "best_rf_model = random_search.best_estimator_\n",
        "\n",
        "# TODO: Get feature importances from the best model\n",
        "feature_importances = best_rf_model.feature_importances_\n",
        "\n",
        "# Get feature names\n",
        "feature_names = X_train_res.columns  # Adjust this if your feature names are stored differently\n",
        "\n",
        "# TODO: Sort the features by their importance (and keep track of their names)\n",
        "sorted_indices = np.argsort(feature_importances)[::-1] # Hint sort only the `indicies` of the feature according to their importances.\n",
        "sorted_importances = feature_importances[sorted_indices]\n",
        "sorted_feature_names = feature_names[sorted_indices]\n",
        "\n",
        "# Print the most important feature and its importance score\n",
        "most_important_feature_name = sorted_feature_names[0]\n",
        "print(f\"The most important feature is: {most_important_feature_name} with an importance score of: {sorted_importances[0]:.4f}\")\n",
        "\n",
        "# TODO: Plot all feature importances sorted\n",
        "plt.figure(figsize=(12, 8))\n",
        "plt.barh(range(len(sorted_importances)), sorted_feature_names, align='center', color='skyblue')\n",
        "plt.yticks(range(len(sorted_importances)), sorted_feature_names)\n",
        "plt.xlabel('Feature Importance')\n",
        "plt.ylabel('Feature Names')\n",
        "plt.title('Sorted Feature Importance from the Best RandomForest Model')\n",
        "plt.gca().invert_yaxis()  # Invert y-axis to have the highest importance on top\n",
        "plt.show()"
      ],
      "metadata": {
        "id": "cmeAJkgkFxrr",
        "outputId": "4ece9aa3-32e9-4ce2-d001-5b419c0f0f7b",
        "colab": {
          "base_uri": "https://localhost:8080/",
          "height": 736
        }
      },
      "execution_count": 36,
      "outputs": [
        {
          "output_type": "stream",
          "name": "stdout",
          "text": [
            "The most important feature is: Length_of_Conveyer with an importance score of: 0.0750\n"
          ]
        },
        {
          "output_type": "display_data",
          "data": {
            "text/plain": [
              "<Figure size 1200x800 with 1 Axes>"
            ],
            "image/png": "[encoded data removed]"
          },
          "metadata": {}
        }
      ]
    },
    {
      "cell_type": "code",
      "source": [],
      "metadata": {
        "id": "kt8U1Tp7gprX"
      },
      "execution_count": null,
      "outputs": []
    }
  ]
}